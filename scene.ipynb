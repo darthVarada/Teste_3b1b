{
 "cells": [
  {
   "cell_type": "code",
   "execution_count": 4,
   "metadata": {},
   "outputs": [
    {
     "name": "stderr",
     "output_type": "stream",
     "text": [
      "'sudo' n�o � reconhecido como um comando interno\n",
      "ou externo, um programa oper�vel ou um arquivo em lotes.\n",
      "'sudo' n�o � reconhecido como um comando interno\n",
      "ou externo, um programa oper�vel ou um arquivo em lotes.\n"
     ]
    },
    {
     "name": "stdout",
     "output_type": "stream",
     "text": [
      "Requirement already satisfied: manim in c:\\users\\fafap\\.conda\\envs\\my-manim-environment\\lib\\site-packages (0.17.3)\n",
      "Requirement already satisfied: Pillow<10.0,>=9.1 in c:\\users\\fafap\\.conda\\envs\\my-manim-environment\\lib\\site-packages (from manim) (9.5.0)\n",
      "Requirement already satisfied: Pygments<3.0.0,>=2.10.0 in c:\\users\\fafap\\.conda\\envs\\my-manim-environment\\lib\\site-packages (from manim) (2.16.1)\n",
      "Requirement already satisfied: click<=9.0,>=7.2 in c:\\users\\fafap\\.conda\\envs\\my-manim-environment\\lib\\site-packages (from manim) (8.1.6)\n",
      "Requirement already satisfied: click-default-group<2.0.0,>=1.2.2 in c:\\users\\fafap\\.conda\\envs\\my-manim-environment\\lib\\site-packages (from manim) (1.2.4)\n",
      "Requirement already satisfied: cloup<0.14.0,>=0.13.0 in c:\\users\\fafap\\.conda\\envs\\my-manim-environment\\lib\\site-packages (from manim) (0.13.1)\n",
      "Requirement already satisfied: colour<0.2.0,>=0.1.5 in c:\\users\\fafap\\.conda\\envs\\my-manim-environment\\lib\\site-packages (from manim) (0.1.5)\n",
      "Requirement already satisfied: decorator<6.0.0,>=5.0.7 in c:\\users\\fafap\\.conda\\envs\\my-manim-environment\\lib\\site-packages (from manim) (5.1.1)\n",
      "Requirement already satisfied: isosurfaces==0.1.0 in c:\\users\\fafap\\.conda\\envs\\my-manim-environment\\lib\\site-packages (from manim) (0.1.0)\n",
      "Requirement already satisfied: manimpango<0.5.0,>=0.4.0.post0 in c:\\users\\fafap\\.conda\\envs\\my-manim-environment\\lib\\site-packages (from manim) (0.4.3)\n",
      "Requirement already satisfied: mapbox-earcut<2.0.0,>=1.0.0 in c:\\users\\fafap\\.conda\\envs\\my-manim-environment\\lib\\site-packages (from manim) (1.0.0)\n",
      "Requirement already satisfied: moderngl<6.0.0,>=5.6.3 in c:\\users\\fafap\\.conda\\envs\\my-manim-environment\\lib\\site-packages (from manim) (5.8.2)\n",
      "Requirement already satisfied: moderngl-window<3.0.0,>=2.3.0 in c:\\users\\fafap\\.conda\\envs\\my-manim-environment\\lib\\site-packages (from manim) (2.4.1)\n",
      "Requirement already satisfied: networkx<3.0,>=2.5 in c:\\users\\fafap\\.conda\\envs\\my-manim-environment\\lib\\site-packages (from manim) (2.8.8)\n",
      "Requirement already satisfied: numpy<2.0,>=1.19 in c:\\users\\fafap\\.conda\\envs\\my-manim-environment\\lib\\site-packages (from manim) (1.25.2)\n",
      "Requirement already satisfied: pycairo<2.0,>=1.21 in c:\\users\\fafap\\.conda\\envs\\my-manim-environment\\lib\\site-packages (from manim) (1.24.0)\n",
      "Requirement already satisfied: pydub<0.26.0,>=0.25.1 in c:\\users\\fafap\\.conda\\envs\\my-manim-environment\\lib\\site-packages (from manim) (0.25.1)\n",
      "Requirement already satisfied: requests<3.0.0,>=2.26.0 in c:\\users\\fafap\\.conda\\envs\\my-manim-environment\\lib\\site-packages (from manim) (2.31.0)\n",
      "Requirement already satisfied: rich!=12.0.0,>=6.0 in c:\\users\\fafap\\.conda\\envs\\my-manim-environment\\lib\\site-packages (from manim) (13.5.1)\n",
      "Requirement already satisfied: scipy<2.0.0,>=1.7.3 in c:\\users\\fafap\\.conda\\envs\\my-manim-environment\\lib\\site-packages (from manim) (1.11.1)\n",
      "Requirement already satisfied: screeninfo<0.9,>=0.8 in c:\\users\\fafap\\.conda\\envs\\my-manim-environment\\lib\\site-packages (from manim) (0.8.1)\n",
      "Requirement already satisfied: skia-pathops<0.8.0,>=0.7.0 in c:\\users\\fafap\\.conda\\envs\\my-manim-environment\\lib\\site-packages (from manim) (0.7.4)\n",
      "Requirement already satisfied: srt<4.0.0,>=3.5.0 in c:\\users\\fafap\\.conda\\envs\\my-manim-environment\\lib\\site-packages (from manim) (3.5.2)\n",
      "Requirement already satisfied: svgelements<2.0.0,>=1.8.0 in c:\\users\\fafap\\.conda\\envs\\my-manim-environment\\lib\\site-packages (from manim) (1.9.5)\n",
      "Requirement already satisfied: tqdm<5.0.0,>=4.62.3 in c:\\users\\fafap\\.conda\\envs\\my-manim-environment\\lib\\site-packages (from manim) (4.65.0)\n",
      "Requirement already satisfied: watchdog<3.0.0,>=2.1.6 in c:\\users\\fafap\\.conda\\envs\\my-manim-environment\\lib\\site-packages (from manim) (2.2.1)\n",
      "Requirement already satisfied: colorama in c:\\users\\fafap\\.conda\\envs\\my-manim-environment\\lib\\site-packages (from click<=9.0,>=7.2->manim) (0.4.6)\n",
      "Requirement already satisfied: glcontext<3,>=2.3.6 in c:\\users\\fafap\\.conda\\envs\\my-manim-environment\\lib\\site-packages (from moderngl<6.0.0,>=5.6.3->manim) (2.3.7)\n",
      "Requirement already satisfied: pyglet<2,>=1.5.8 in c:\\users\\fafap\\.conda\\envs\\my-manim-environment\\lib\\site-packages (from moderngl-window<3.0.0,>=2.3.0->manim) (1.5.27)\n",
      "Requirement already satisfied: pyrr<1,>=0.10.3 in c:\\users\\fafap\\.conda\\envs\\my-manim-environment\\lib\\site-packages (from moderngl-window<3.0.0,>=2.3.0->manim) (0.10.3)\n",
      "Requirement already satisfied: charset-normalizer<4,>=2 in c:\\users\\fafap\\.conda\\envs\\my-manim-environment\\lib\\site-packages (from requests<3.0.0,>=2.26.0->manim) (3.2.0)\n",
      "Requirement already satisfied: idna<4,>=2.5 in c:\\users\\fafap\\.conda\\envs\\my-manim-environment\\lib\\site-packages (from requests<3.0.0,>=2.26.0->manim) (3.4)\n",
      "Requirement already satisfied: urllib3<3,>=1.21.1 in c:\\users\\fafap\\.conda\\envs\\my-manim-environment\\lib\\site-packages (from requests<3.0.0,>=2.26.0->manim) (1.26.15)\n",
      "Requirement already satisfied: certifi>=2017.4.17 in c:\\users\\fafap\\.conda\\envs\\my-manim-environment\\lib\\site-packages (from requests<3.0.0,>=2.26.0->manim) (2023.7.22)\n",
      "Requirement already satisfied: markdown-it-py>=2.2.0 in c:\\users\\fafap\\.conda\\envs\\my-manim-environment\\lib\\site-packages (from rich!=12.0.0,>=6.0->manim) (3.0.0)\n",
      "Requirement already satisfied: mdurl~=0.1 in c:\\users\\fafap\\.conda\\envs\\my-manim-environment\\lib\\site-packages (from markdown-it-py>=2.2.0->rich!=12.0.0,>=6.0->manim) (0.1.0)\n",
      "Requirement already satisfied: multipledispatch in c:\\users\\fafap\\.conda\\envs\\my-manim-environment\\lib\\site-packages (from pyrr<1,>=0.10.3->moderngl-window<3.0.0,>=2.3.0->manim) (0.6.0)\n",
      "Requirement already satisfied: six in c:\\users\\fafap\\.conda\\envs\\my-manim-environment\\lib\\site-packages (from multipledispatch->pyrr<1,>=0.10.3->moderngl-window<3.0.0,>=2.3.0->manim) (1.16.0)\n",
      "Collecting manimlib\n",
      "  Using cached manimlib-0.2.0.tar.gz (4.8 MB)\n",
      "  Preparing metadata (setup.py): started\n",
      "  Preparing metadata (setup.py): finished with status 'done'\n",
      "Collecting argparse (from manimlib)\n",
      "  Using cached argparse-1.4.0-py2.py3-none-any.whl (23 kB)\n",
      "Requirement already satisfied: colour in c:\\users\\fafap\\.conda\\envs\\my-manim-environment\\lib\\site-packages (from manimlib) (0.1.5)\n",
      "Requirement already satisfied: numpy in c:\\users\\fafap\\.conda\\envs\\my-manim-environment\\lib\\site-packages (from manimlib) (1.25.2)\n",
      "Requirement already satisfied: Pillow in c:\\users\\fafap\\.conda\\envs\\my-manim-environment\\lib\\site-packages (from manimlib) (9.5.0)\n",
      "Collecting progressbar (from manimlib)\n",
      "  Downloading progressbar-2.5.tar.gz (10 kB)\n",
      "  Preparing metadata (setup.py): started\n",
      "  Preparing metadata (setup.py): finished with status 'done'\n",
      "Requirement already satisfied: scipy in c:\\users\\fafap\\.conda\\envs\\my-manim-environment\\lib\\site-packages (from manimlib) (1.11.1)\n",
      "Requirement already satisfied: tqdm in c:\\users\\fafap\\.conda\\envs\\my-manim-environment\\lib\\site-packages (from manimlib) (4.65.0)\n",
      "Collecting opencv-python (from manimlib)\n",
      "  Obtaining dependency information for opencv-python from https://files.pythonhosted.org/packages/fb/c4/f574ba6f04e6d7bf8c38d23e7a52389566dd7631fee0bcdd79ea07ef2dbf/opencv_python-4.8.0.76-cp37-abi3-win_amd64.whl.metadata\n",
      "  Using cached opencv_python-4.8.0.76-cp37-abi3-win_amd64.whl.metadata (20 kB)\n",
      "Requirement already satisfied: pycairo in c:\\users\\fafap\\.conda\\envs\\my-manim-environment\\lib\\site-packages (from manimlib) (1.24.0)\n",
      "Requirement already satisfied: pydub in c:\\users\\fafap\\.conda\\envs\\my-manim-environment\\lib\\site-packages (from manimlib) (0.25.1)\n",
      "Requirement already satisfied: pygments in c:\\users\\fafap\\.conda\\envs\\my-manim-environment\\lib\\site-packages (from manimlib) (2.16.1)\n",
      "Collecting pyreadline (from manimlib)\n",
      "  Using cached pyreadline-2.1.zip (109 kB)\n",
      "  Preparing metadata (setup.py): started\n",
      "  Preparing metadata (setup.py): finished with status 'done'\n",
      "Requirement already satisfied: colorama in c:\\users\\fafap\\.conda\\envs\\my-manim-environment\\lib\\site-packages (from tqdm->manimlib) (0.4.6)\n",
      "Using cached opencv_python-4.8.0.76-cp37-abi3-win_amd64.whl (38.1 MB)\n",
      "Building wheels for collected packages: manimlib, progressbar, pyreadline\n",
      "  Building wheel for manimlib (setup.py): started\n",
      "  Building wheel for manimlib (setup.py): finished with status 'done'\n",
      "  Created wheel for manimlib: filename=manimlib-0.2.0-py3-none-any.whl size=212777 sha256=2ef180e4fac5b3380e17888c6f74ac6a6f7c9d0398a5d997d4a9e11e65187df4\n",
      "  Stored in directory: c:\\users\\fafap\\appdata\\local\\pip\\cache\\wheels\\8f\\cb\\00\\c92b6f3c076fb584c2b55052aacdf9636d0cade00e9c9a9079\n",
      "  Building wheel for progressbar (setup.py): started\n",
      "  Building wheel for progressbar (setup.py): finished with status 'done'\n",
      "  Created wheel for progressbar: filename=progressbar-2.5-py3-none-any.whl size=12084 sha256=1836d7e20eddc14a5a5b4746000b2b10b9a25437be6567478a64c1eada72a8e2\n",
      "  Stored in directory: c:\\users\\fafap\\appdata\\local\\pip\\cache\\wheels\\8d\\bb\\b2\\5353b966ac6f3c5e1000629a9a5f6aed41794487f551e32efc\n",
      "  Building wheel for pyreadline (setup.py): started\n",
      "  Building wheel for pyreadline (setup.py): finished with status 'done'\n",
      "  Created wheel for pyreadline: filename=pyreadline-2.1-py3-none-any.whl size=93850 sha256=78ee1516dfb488dc1edb3bdf660adc5f8b0b2e8dcdae69ee5af0ed277a2a89d0\n",
      "  Stored in directory: c:\\users\\fafap\\appdata\\local\\pip\\cache\\wheels\\17\\3c\\0e\\500cdf5314c51559ab97f43fbb32fdfd1051a165fbca6552a2\n",
      "Successfully built manimlib progressbar pyreadline\n",
      "Installing collected packages: pyreadline, progressbar, argparse, opencv-python, manimlib\n",
      "Successfully installed argparse-1.4.0 manimlib-0.2.0 opencv-python-4.8.0.76 progressbar-2.5 pyreadline-2.1\n",
      "Requirement already satisfied: IPython in c:\\users\\fafap\\.conda\\envs\\my-manim-environment\\lib\\site-packages (8.15.0)\n",
      "Requirement already satisfied: backcall in c:\\users\\fafap\\.conda\\envs\\my-manim-environment\\lib\\site-packages (from IPython) (0.2.0)\n",
      "Requirement already satisfied: decorator in c:\\users\\fafap\\.conda\\envs\\my-manim-environment\\lib\\site-packages (from IPython) (5.1.1)\n",
      "Requirement already satisfied: jedi>=0.16 in c:\\users\\fafap\\.conda\\envs\\my-manim-environment\\lib\\site-packages (from IPython) (0.19.0)\n",
      "Requirement already satisfied: matplotlib-inline in c:\\users\\fafap\\.conda\\envs\\my-manim-environment\\lib\\site-packages (from IPython) (0.1.6)\n",
      "Requirement already satisfied: pickleshare in c:\\users\\fafap\\.conda\\envs\\my-manim-environment\\lib\\site-packages (from IPython) (0.7.5)\n",
      "Requirement already satisfied: prompt-toolkit!=3.0.37,<3.1.0,>=3.0.30 in c:\\users\\fafap\\.conda\\envs\\my-manim-environment\\lib\\site-packages (from IPython) (3.0.39)\n",
      "Requirement already satisfied: pygments>=2.4.0 in c:\\users\\fafap\\.conda\\envs\\my-manim-environment\\lib\\site-packages (from IPython) (2.16.1)\n",
      "Requirement already satisfied: stack-data in c:\\users\\fafap\\.conda\\envs\\my-manim-environment\\lib\\site-packages (from IPython) (0.6.2)\n",
      "Requirement already satisfied: traitlets>=5 in c:\\users\\fafap\\.conda\\envs\\my-manim-environment\\lib\\site-packages (from IPython) (5.9.0)\n",
      "Requirement already satisfied: colorama in c:\\users\\fafap\\.conda\\envs\\my-manim-environment\\lib\\site-packages (from IPython) (0.4.6)\n",
      "Requirement already satisfied: parso<0.9.0,>=0.8.3 in c:\\users\\fafap\\.conda\\envs\\my-manim-environment\\lib\\site-packages (from jedi>=0.16->IPython) (0.8.3)\n",
      "Requirement already satisfied: wcwidth in c:\\users\\fafap\\.conda\\envs\\my-manim-environment\\lib\\site-packages (from prompt-toolkit!=3.0.37,<3.1.0,>=3.0.30->IPython) (0.2.6)\n",
      "Requirement already satisfied: executing>=1.2.0 in c:\\users\\fafap\\.conda\\envs\\my-manim-environment\\lib\\site-packages (from stack-data->IPython) (1.2.0)\n",
      "Requirement already satisfied: asttokens>=2.1.0 in c:\\users\\fafap\\.conda\\envs\\my-manim-environment\\lib\\site-packages (from stack-data->IPython) (2.2.1)\n",
      "Requirement already satisfied: pure-eval in c:\\users\\fafap\\.conda\\envs\\my-manim-environment\\lib\\site-packages (from stack-data->IPython) (0.2.2)\n",
      "Requirement already satisfied: six in c:\\users\\fafap\\.conda\\envs\\my-manim-environment\\lib\\site-packages (from asttokens>=2.1.0->stack-data->IPython) (1.16.0)\n"
     ]
    }
   ],
   "source": [
    "!sudo apt update\n",
    "!sudo apt install libcairo2-dev ffmpeg \\\n",
    "    texlive texlive-latex-extra texlive-fonts-extra \\\n",
    "    texlive-latex-recommended texlive-science \\\n",
    "    tipa libpango1.0-dev\n",
    "!pip install manim\n",
    "!pip install manimlib\n",
    "!pip install IPython --upgrade"
   ]
  },
  {
   "cell_type": "code",
   "execution_count": 2,
   "metadata": {},
   "outputs": [
    {
     "data": {
      "text/html": [
       "<pre style=\"white-space:pre;overflow-x:auto;line-height:normal;font-family:Menlo,'DejaVu Sans Mono',consolas,'Courier New',monospace\">Manim Community <span style=\"color: #008000; text-decoration-color: #008000\">v0.17.3</span>\n",
       "\n",
       "</pre>\n"
      ],
      "text/plain": [
       "Manim Community \u001b[32mv0.\u001b[0m\u001b[32m17.3\u001b[0m\n",
       "\n"
      ]
     },
     "metadata": {},
     "output_type": "display_data"
    }
   ],
   "source": [
    "from manim import *\n",
    "from manimlib.imports import *"
   ]
  },
  {
   "cell_type": "code",
   "execution_count": 3,
   "metadata": {},
   "outputs": [
    {
     "name": "stderr",
     "output_type": "stream",
     "text": [
      "                                                                                          \r"
     ]
    },
    {
     "name": "stdout",
     "output_type": "stream",
     "text": [
      "Played 2 animations\n"
     ]
    },
    {
     "ename": "AttributeError",
     "evalue": "'BarCharExam' object has no attribute 'render'",
     "output_type": "error",
     "traceback": [
      "\u001b[1;31m---------------------------------------------------------------------------\u001b[0m",
      "\u001b[1;31mAttributeError\u001b[0m                            Traceback (most recent call last)",
      "Cell \u001b[1;32mIn[3], line 1\u001b[0m\n\u001b[1;32m----> 1\u001b[0m get_ipython()\u001b[39m.\u001b[39;49mrun_cell_magic(\u001b[39m'\u001b[39;49m\u001b[39mmanim\u001b[39;49m\u001b[39m'\u001b[39;49m, \u001b[39m'\u001b[39;49m\u001b[39m-qm BarCharExam\u001b[39;49m\u001b[39m'\u001b[39;49m, \u001b[39m'\u001b[39;49m\u001b[39m\\n\u001b[39;49;00m\u001b[39mclass BarCharExam(Scene):\u001b[39;49m\u001b[39m\\n\u001b[39;49;00m\u001b[39m    def construct(self):\u001b[39;49m\u001b[39m\\n\u001b[39;49;00m\u001b[39m        colors = [RED, GREEN, BLUE, YELLOW, ORANGE]\u001b[39;49m\u001b[39m\\n\u001b[39;49;00m\u001b[39m        values = [0.5, 0.6, 0.9, 0.45, 0.96, 0.73, 0.2, 0.4, 0.49, 0.75, 0.9]\u001b[39;49m\u001b[39m\\n\u001b[39;49;00m\u001b[39m        bar_chart = BarChart(values, bar_colors = colors)\u001b[39;49m\u001b[39m\\n\u001b[39;49;00m\u001b[39m        self.play(DrawBorderThenFill(bar_chart, run_time = 5))\u001b[39;49m\u001b[39m\\n\u001b[39;49;00m\u001b[39m        self.wait(3)\u001b[39;49m\u001b[39m\\n\u001b[39;49;00m\u001b[39m'\u001b[39;49m)\n",
      "File \u001b[1;32mc:\\Users\\fafap\\.conda\\envs\\my-manim-environment\\Lib\\site-packages\\IPython\\core\\interactiveshell.py:2493\u001b[0m, in \u001b[0;36mInteractiveShell.run_cell_magic\u001b[1;34m(self, magic_name, line, cell)\u001b[0m\n\u001b[0;32m   2491\u001b[0m \u001b[39mwith\u001b[39;00m \u001b[39mself\u001b[39m\u001b[39m.\u001b[39mbuiltin_trap:\n\u001b[0;32m   2492\u001b[0m     args \u001b[39m=\u001b[39m (magic_arg_s, cell)\n\u001b[1;32m-> 2493\u001b[0m     result \u001b[39m=\u001b[39m fn(\u001b[39m*\u001b[39;49margs, \u001b[39m*\u001b[39;49m\u001b[39m*\u001b[39;49mkwargs)\n\u001b[0;32m   2495\u001b[0m \u001b[39m# The code below prevents the output from being displayed\u001b[39;00m\n\u001b[0;32m   2496\u001b[0m \u001b[39m# when using magics with decorator @output_can_be_silenced\u001b[39;00m\n\u001b[0;32m   2497\u001b[0m \u001b[39m# when the last Python token in the expression is a ';'.\u001b[39;00m\n\u001b[0;32m   2498\u001b[0m \u001b[39mif\u001b[39;00m \u001b[39mgetattr\u001b[39m(fn, magic\u001b[39m.\u001b[39mMAGIC_OUTPUT_CAN_BE_SILENCED, \u001b[39mFalse\u001b[39;00m):\n",
      "File \u001b[1;32mc:\\Users\\fafap\\.conda\\envs\\my-manim-environment\\Lib\\site-packages\\manim\\utils\\ipython_magic.py:141\u001b[0m, in \u001b[0;36mManimMagic.manim\u001b[1;34m(self, line, cell, local_ns)\u001b[0m\n\u001b[0;32m    139\u001b[0m     SceneClass \u001b[39m=\u001b[39m local_ns[config[\u001b[39m\"\u001b[39m\u001b[39mscene_names\u001b[39m\u001b[39m\"\u001b[39m][\u001b[39m0\u001b[39m]]\n\u001b[0;32m    140\u001b[0m     scene \u001b[39m=\u001b[39m SceneClass(renderer\u001b[39m=\u001b[39mrenderer)\n\u001b[1;32m--> 141\u001b[0m     scene\u001b[39m.\u001b[39;49mrender()\n\u001b[0;32m    142\u001b[0m \u001b[39mfinally\u001b[39;00m:\n\u001b[0;32m    143\u001b[0m     \u001b[39m# Shader cache becomes invalid as the context is destroyed\u001b[39;00m\n\u001b[0;32m    144\u001b[0m     shader_program_cache\u001b[39m.\u001b[39mclear()\n",
      "\u001b[1;31mAttributeError\u001b[0m: 'BarCharExam' object has no attribute 'render'"
     ]
    }
   ],
   "source": [
    "%%manim -qm BarCharExam\n",
    "\n",
    "class BarCharExam(Scene):\n",
    "    def construct(self):\n",
    "        colors = [RED, GREEN, BLUE, YELLOW, ORANGE]\n",
    "        values = [0.5, 0.6, 0.9, 0.45, 0.96, 0.73, 0.2, 0.4, 0.49, 0.75, 0.9]\n",
    "        bar_chart = BarChart(values, bar_colors = colors)\n",
    "        self.play(DrawBorderThenFill(bar_chart, run_time = 5))\n",
    "        self.wait(3)"
   ]
  }
 ],
 "metadata": {
  "kernelspec": {
   "display_name": "Python 3",
   "language": "python",
   "name": "python3"
  },
  "language_info": {
   "codemirror_mode": {
    "name": "ipython",
    "version": 3
   },
   "file_extension": ".py",
   "mimetype": "text/x-python",
   "name": "python",
   "nbconvert_exporter": "python",
   "pygments_lexer": "ipython3",
   "version": "3.11.4"
  },
  "orig_nbformat": 4
 },
 "nbformat": 4,
 "nbformat_minor": 2
}
